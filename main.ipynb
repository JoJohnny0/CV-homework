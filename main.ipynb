{
 "cells": [
  {
   "cell_type": "markdown",
   "id": "22152e7a",
   "metadata": {},
   "source": [
    "# Efficient Anomaly Detection in Industrial Images using Transformers with Dynamic Tanh"
   ]
  },
  {
   "cell_type": "markdown",
   "id": "8bd7232d",
   "metadata": {},
   "source": [
    "## Imports"
   ]
  },
  {
   "cell_type": "code",
   "execution_count": null,
   "id": "bae4c967",
   "metadata": {},
   "outputs": [],
   "source": [
    "import time\n",
    "from typing import Literal\n",
    "\n",
    "from lightning.fabric.utilities.throughput import measure_flops\n",
    "import lightning.pytorch as pl\n",
    "from lightning.pytorch.loggers import TensorBoardLogger\n",
    "from thop import profile\n",
    "import torch\n",
    "from torch.utils.data import DataLoader\n",
    "\n",
    "from modules import data, globals, vtae"
   ]
  },
  {
   "cell_type": "markdown",
   "id": "495213c5",
   "metadata": {},
   "source": [
    "## Globals"
   ]
  },
  {
   "cell_type": "code",
   "execution_count": null,
   "id": "6e8d653f",
   "metadata": {},
   "outputs": [],
   "source": [
    "# Dataset\n",
    "dataset: Literal['MVTech', 'BTAD'] = 'MVTech'\n",
    "product: data.ProductType = 'bottle'\n",
    "resize_dim: int = 550\n",
    "crop_dim: int = 512\n",
    "\n",
    "# Model\n",
    "patch_side: int = 64\n",
    "latent_channels: int = 8\n",
    "heads: int = 8\n",
    "depth: int = 2\n",
    "caps_per_patch: int = 32\n",
    "caps_dim: int = 8\n",
    "caps_iterations: int = 1\n",
    "ff_dim: int = 512\n",
    "mdn_components: int = 50\n",
    "noise: float = 0.2\n",
    "loss_weights: tuple[float, float, float] = (5., 0.5, 1.)\n",
    "lr: float = 1e-4\n",
    "weight_decay: float = 1e-4\n",
    "use_dytanh: bool = True\n",
    "\n",
    "# Training\n",
    "epochs: int = 400\n",
    "batch_size: int = 8"
   ]
  },
  {
   "cell_type": "code",
   "execution_count": null,
   "id": "adff60c3",
   "metadata": {},
   "outputs": [],
   "source": [
    "# Run name\n",
    "run_name: str = 'vtae_dytanh' if use_dytanh else 'vtae_ln'"
   ]
  },
  {
   "cell_type": "code",
   "execution_count": null,
   "id": "436feec8",
   "metadata": {},
   "outputs": [],
   "source": [
    "pl.seed_everything(42, workers = True)"
   ]
  },
  {
   "cell_type": "markdown",
   "id": "43871876",
   "metadata": {},
   "source": [
    "## Data"
   ]
  },
  {
   "cell_type": "code",
   "execution_count": null,
   "id": "b3e6c503",
   "metadata": {},
   "outputs": [],
   "source": [
    "train_loader: DataLoader[tuple[torch.Tensor]]\n",
    "val_loader: DataLoader[tuple[torch.Tensor]]\n",
    "test_loader: DataLoader[tuple[torch.Tensor, torch.Tensor]]\n",
    "\n",
    "train_loader, val_loader, test_loader = data.get_loaders(dataset,\n",
    "                                                         product,\n",
    "                                                         crop_dim = (crop_dim, crop_dim),\n",
    "                                                         resize_dim = (resize_dim, resize_dim),\n",
    "                                                         batch_size = batch_size\n",
    "                                                         )"
   ]
  },
  {
   "cell_type": "markdown",
   "id": "fad16a6c",
   "metadata": {},
   "source": [
    "## Network"
   ]
  },
  {
   "cell_type": "code",
   "execution_count": null,
   "id": "92364042",
   "metadata": {},
   "outputs": [],
   "source": [
    "model: vtae.VTAE = vtae.VTAE(image_shape = (3, crop_dim, crop_dim),\n",
    "                             patch_shape = (patch_side, patch_side),\n",
    "                             latent_channels = latent_channels,\n",
    "                             heads = heads,\n",
    "                             depth = depth,\n",
    "                             caps_per_patch = caps_per_patch,\n",
    "                             caps_dim = caps_dim,\n",
    "                             caps_iterations = caps_iterations,\n",
    "                             ff_dim = ff_dim,\n",
    "                             mdn_components = mdn_components,\n",
    "                             noise = noise,\n",
    "                             loss_weights = loss_weights,\n",
    "                             lr = lr,\n",
    "                             weight_decay = weight_decay,\n",
    "                             use_dytanh = use_dytanh\n",
    "                             )"
   ]
  },
  {
   "cell_type": "markdown",
   "id": "8861fae5",
   "metadata": {},
   "source": [
    "## Train"
   ]
  },
  {
   "cell_type": "code",
   "execution_count": null,
   "id": "8fc5bd48",
   "metadata": {},
   "outputs": [],
   "source": [
    "# Logger\n",
    "logger: TensorBoardLogger = TensorBoardLogger(globals.LOG_DIR / dataset / product, name = run_name)\n",
    "\n",
    "# Train the model\n",
    "trainer: pl.Trainer = pl.Trainer(max_epochs = epochs,\n",
    "                                 precision = 'bf16-mixed',\n",
    "                                 log_every_n_steps = len(train_loader),\n",
    "                                 logger = logger,\n",
    "                                 enable_checkpointing = False   # In order to not alter the times, save only at the end\n",
    "                                 )\n",
    "trainer.fit(model, train_loader, val_loader)"
   ]
  },
  {
   "cell_type": "code",
   "execution_count": null,
   "id": "ad2feb2b",
   "metadata": {},
   "outputs": [],
   "source": [
    "# Save the model\n",
    "trainer.save_checkpoint(globals.CHECKPOINT_DIR / dataset / product / f'{run_name}.ckpt')"
   ]
  },
  {
   "cell_type": "markdown",
   "id": "8148fc10",
   "metadata": {},
   "source": [
    "## Evaluation"
   ]
  },
  {
   "cell_type": "code",
   "execution_count": null,
   "id": "bdbf0e43",
   "metadata": {},
   "outputs": [],
   "source": [
    "# Reload the model with the best threshold\n",
    "threshold: float = 0.5  # placeholder\n",
    "model = vtae.VTAE.load_from_checkpoint(globals.CHECKPOINT_DIR / dataset / product / f'{run_name}.ckpt', threshold = threshold)"
   ]
  },
  {
   "cell_type": "code",
   "execution_count": null,
   "id": "9dc2fbf2",
   "metadata": {},
   "outputs": [],
   "source": [
    "# Test the model\n",
    "trainer = pl.Trainer(logger = False)\n",
    "trainer.test(model, test_loader)"
   ]
  },
  {
   "cell_type": "code",
   "execution_count": null,
   "id": "0f6517a4",
   "metadata": {},
   "outputs": [],
   "source": [
    "# Get the inference time\n",
    "\n",
    "# Prepare for inference\n",
    "model.eval()\n",
    "x: torch.Tensor = next(iter(test_loader))[0]\n",
    "\n",
    "# Cuda setup\n",
    "if torch.cuda.is_available():\n",
    "    model.cuda()\n",
    "    x = x.cuda()\n",
    "\n",
    "with torch.no_grad():\n",
    "    # Warm-up\n",
    "    for _ in range(5):\n",
    "        model(x)\n",
    "\n",
    "    # Measure inference time\n",
    "    if torch.cuda.is_available():\n",
    "        torch.cuda.synchronize()\n",
    "    start_time: float = time.time()\n",
    "\n",
    "    for _ in range(100):\n",
    "        model(x)\n",
    "\n",
    "    if torch.cuda.is_available():\n",
    "        torch.cuda.synchronize()\n",
    "    total_time: float = time.time() - start_time\n",
    "\n",
    "print(f\"Mean inference time: {total_time * 10:.2f} ms\")"
   ]
  },
  {
   "cell_type": "code",
   "execution_count": null,
   "id": "b31086c2",
   "metadata": {},
   "outputs": [],
   "source": [
    "# Get the flops\n",
    "flops: float = measure_flops(model, lambda : model(x))\n",
    "print(f\"GFLOPS: {flops / 1e9:.2f}\")\n",
    "\n",
    "# Get the MACs and parameters\n",
    "macs: int\n",
    "params: int\n",
    "macs, params = profile(model, inputs = (x,), verbose = False)   # type: ignore\n",
    "print(f\"GMACs: {macs / 1e9:.2f}\")\n",
    "print(f\"Parameters: {params/1e6:.2f} M\")"
   ]
  }
 ],
 "metadata": {
  "language_info": {
   "name": "python"
  }
 },
 "nbformat": 4,
 "nbformat_minor": 5
}
